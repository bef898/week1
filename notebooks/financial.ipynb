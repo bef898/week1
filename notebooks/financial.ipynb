{
 "cells": [
  {
   "cell_type": "code",
   "execution_count": 1,
   "metadata": {},
   "outputs": [],
   "source": [
    "import os\n",
    "import sys\n",
    "import pandas as pd\n",
    "import yfinance as yf\n",
    "import plotly as px"
   ]
  },
  {
   "cell_type": "code",
   "execution_count": 2,
   "metadata": {},
   "outputs": [
    {
     "name": "stdout",
     "output_type": "stream",
     "text": [
      "c:\\Users\\befekadum\\Documents\\10x acadamy\\Week 1\\project\\week1\\notebooks\n",
      "c:\\Users\\befekadum\\Documents\\10x acadamy\\Week 1\\project\\week1\n",
      "['c:\\\\Users\\\\befekadum\\\\Documents\\\\10x acadamy\\\\Week 1\\\\project\\\\week1\\\\Scripts', 'c:\\\\Users\\\\befekadum\\\\Documents\\\\10x acadamy\\\\Week 1\\\\project\\\\week1', 'C:\\\\Program Files\\\\WindowsApps\\\\PythonSoftwareFoundation.Python.3.11_3.11.2544.0_x64__qbz5n2kfra8p0\\\\python311.zip', 'C:\\\\Program Files\\\\WindowsApps\\\\PythonSoftwareFoundation.Python.3.11_3.11.2544.0_x64__qbz5n2kfra8p0\\\\DLLs', 'C:\\\\Program Files\\\\WindowsApps\\\\PythonSoftwareFoundation.Python.3.11_3.11.2544.0_x64__qbz5n2kfra8p0\\\\Lib', 'C:\\\\Program Files\\\\WindowsApps\\\\PythonSoftwareFoundation.Python.3.11_3.11.2544.0_x64__qbz5n2kfra8p0', 'c:\\\\Users\\\\befekadum\\\\Documents\\\\10x acadamy\\\\Week 1\\\\project\\\\week1\\\\myvenv', '', 'c:\\\\Users\\\\befekadum\\\\Documents\\\\10x acadamy\\\\Week 1\\\\project\\\\week1\\\\myvenv\\\\Lib\\\\site-packages', 'c:\\\\Users\\\\befekadum\\\\Documents\\\\10x acadamy\\\\Week 1\\\\project\\\\week1\\\\myvenv\\\\Lib\\\\site-packages\\\\win32', 'c:\\\\Users\\\\befekadum\\\\Documents\\\\10x acadamy\\\\Week 1\\\\project\\\\week1\\\\myvenv\\\\Lib\\\\site-packages\\\\win32\\\\lib', 'c:\\\\Users\\\\befekadum\\\\Documents\\\\10x acadamy\\\\Week 1\\\\project\\\\week1\\\\myvenv\\\\Lib\\\\site-packages\\\\Pythonwin']\n"
     ]
    }
   ],
   "source": [
    "# Get theconda create --name talib python=3.9 current working directory\n",
    "current_dir = os.getcwd()\n",
    "print(current_dir)\n",
    "\n",
    "# Get the parent directory\n",
    "parent_dir = os.path.dirname(current_dir)\n",
    "print(parent_dir)\n",
    "\n",
    "# Insert the path to the parent directory\n",
    "sys.path.insert(0, parent_dir)\n",
    "\n",
    "# # Insert the path to the Scripts directory\n",
    "sys.path.insert(0, os.path.join(parent_dir, 'Scripts'))\n",
    "\n",
    "print(sys.path)"
   ]
  }
 ],
 "metadata": {
  "kernelspec": {
   "display_name": "myvenv",
   "language": "python",
   "name": "python3"
  },
  "language_info": {
   "codemirror_mode": {
    "name": "ipython",
    "version": 3
   },
   "file_extension": ".py",
   "mimetype": "text/x-python",
   "name": "python",
   "nbconvert_exporter": "python",
   "pygments_lexer": "ipython3",
   "version": "3.11.9"
  }
 },
 "nbformat": 4,
 "nbformat_minor": 2
}
